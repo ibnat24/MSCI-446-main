{
 "cells": [
  {
   "cell_type": "code",
   "execution_count": 3,
   "metadata": {},
   "outputs": [
    {
     "name": "stdout",
     "output_type": "stream",
     "text": [
      "  Ingredient  Quantity    Unit    Category            Recipe Recipe Category  \\\n",
      "0    Chicken       163   grams    Proteins  Chicken Stir-Fry          Dinner   \n",
      "1   Broccoli        93  ounces  Vegetables    Broccoli Salad           Lunch   \n",
      "2       Rice       197    cups      Grains       Tomato Soup            Soup   \n",
      "3     Tomato       115  pieces      Fruits  Spinach Smoothie       Breakfast   \n",
      "4    Spinach       174  slices       Dairy        Rice Pilaf           Snack   \n",
      "\n",
      "  Recipe Difficulty  Calories  Carbohydrates  Proteins  ...   Minerals  \\\n",
      "0              Easy       444             28        17  ...       Iron   \n",
      "1            Medium       428             41        31  ...    Calcium   \n",
      "2            Medium       248             34        44  ...  Potassium   \n",
      "3              Easy       485             19        47  ...  Magnesium   \n",
      "4              Hard       128             29        23  ...       Zinc   \n",
      "\n",
      "  Dietary Preferences Dietary Restrictions  Health Goals Rating  \\\n",
      "0     Italian Cuisine        Allergy: Nuts   Weight Loss      5   \n",
      "1          Spicy Food           Dairy-Free   Muscle Gain      5   \n",
      "2            Low-Carb           Low-Sodium   Maintenance      3   \n",
      "3          Vegetarian                Vegan  Heart Health      4   \n",
      "4         Gluten-Free                 Keto  Energy Boost      4   \n",
      "\n",
      "               Comments         Ingredient Substitutions Serving Size  \\\n",
      "0            Delicious!  Almond milk instead of cow milk            2   \n",
      "1  Needs more seasoning          Tofu instead of chicken            4   \n",
      "2             Too salty                              NaN            3   \n",
      "3         Great recipe!                 No substitutions            3   \n",
      "4          Easy to make                              NaN            3   \n",
      "\n",
      "  Prep Time (mins)  Cook Time (mins)  \n",
      "0               43                76  \n",
      "1               42                57  \n",
      "2               24                15  \n",
      "3               23                73  \n",
      "4               23                92  \n",
      "\n",
      "[5 rows x 22 columns]\n"
     ]
    }
   ],
   "source": [
    "# Import necessary libraries\n",
    "import pandas as pd\n",
    "import random\n",
    "\n",
    "# Load the dataset\n",
    "data = pd.read_csv(\"synthetic_nourishnudge_data.csv\")\n",
    "\n",
    "# Print the dataset\n",
    "print(data)\n"
   ]
  },
  {
   "cell_type": "code",
   "execution_count": 4,
   "metadata": {},
   "outputs": [
    {
     "name": "stdout",
     "output_type": "stream",
     "text": [
      "Recommended Ingredients for Chicken Stir-Fry :\n",
      "[]\n"
     ]
    }
   ],
   "source": [
    "# Define function to recommend ingredients based on user input\n",
    "def recommend_ingredients(desired_dish, dietary_preferences=[], dietary_restrictions=[], health_goals=[]):\n",
    "    # Filter dataset based on user's dietary preferences and restrictions\n",
    "    filtered_data = data.copy()\n",
    "    for preference in dietary_preferences:\n",
    "        filtered_data = filtered_data[filtered_data['Dietary Preferences'].str.contains(preference)]\n",
    "    for restriction in dietary_restrictions:\n",
    "        filtered_data = filtered_data[~filtered_data['Dietary Restrictions'].str.contains(restriction)]\n",
    "    \n",
    "    # Filter by desired dish\n",
    "    filtered_data = filtered_data[filtered_data['Recipe'].str.contains(desired_dish)]\n",
    "    \n",
    "    # If desired dish not found, recommend ingredients for a similar category\n",
    "    if filtered_data.empty:\n",
    "        filtered_data = data[data['Recipe Category'].str.contains(desired_dish)]\n",
    "    \n",
    "    # Recommend ingredients based on user's health goals\n",
    "    if 'Weight Loss' in health_goals:\n",
    "        # Filter by low-calorie ingredients\n",
    "        filtered_data = filtered_data[filtered_data['Calories'] < 300]\n",
    "    if 'Muscle Gain' in health_goals:\n",
    "        # Filter by high-protein ingredients\n",
    "        filtered_data = filtered_data[filtered_data['Proteins'] > 20]\n",
    "    \n",
    "    # Get recommended ingredients\n",
    "    recommended_ingredients = filtered_data['Ingredient'].tolist()\n",
    "    \n",
    "    # Provide substitutions for common allergens or dietary preferences\n",
    "    substitutions = {\n",
    "        'Milk': ['Almond milk', 'Oat milk', 'Soy milk'],\n",
    "        'Cheese': ['Vegan cheese', 'Nutritional yeast'],\n",
    "        'Gluten-containing grains': ['Quinoa', 'Brown rice', 'Gluten-free pasta']\n",
    "    }\n",
    "    for ingredient, substitutes in substitutions.items():\n",
    "        if ingredient in recommended_ingredients:\n",
    "            recommended_ingredients.remove(ingredient)\n",
    "            recommended_ingredients.extend(substitutes)\n",
    "    \n",
    "    return recommended_ingredients\n",
    "\n",
    "# Example usage:\n",
    "desired_dish = \"Chicken Stir-Fry\"\n",
    "dietary_preferences = [\"Vegetarian\"]\n",
    "dietary_restrictions = [\"Dairy-Free\"]\n",
    "health_goals = [\"Weight Loss\"]\n",
    "\n",
    "recommended_ingredients = recommend_ingredients(desired_dish, dietary_preferences, dietary_restrictions, health_goals)\n",
    "print(\"Recommended Ingredients for\", desired_dish, \":\")\n",
    "print(recommended_ingredients)"
   ]
  }
 ],
 "metadata": {
  "kernelspec": {
   "display_name": "Python 3",
   "language": "python",
   "name": "python3"
  },
  "language_info": {
   "codemirror_mode": {
    "name": "ipython",
    "version": 3
   },
   "file_extension": ".py",
   "mimetype": "text/x-python",
   "name": "python",
   "nbconvert_exporter": "python",
   "pygments_lexer": "ipython3",
   "version": "3.11.5"
  }
 },
 "nbformat": 4,
 "nbformat_minor": 2
}
